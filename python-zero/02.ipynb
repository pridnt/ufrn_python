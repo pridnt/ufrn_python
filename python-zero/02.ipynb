{
  "nbformat": 4,
  "nbformat_minor": 0,
  "metadata": {
    "kernelspec": {
      "display_name": "Python 3",
      "language": "python",
      "name": "python3"
    },
    "language_info": {
      "codemirror_mode": {
        "name": "ipython",
        "version": 3
      },
      "file_extension": ".py",
      "mimetype": "text/x-python",
      "name": "python",
      "nbconvert_exporter": "python",
      "pygments_lexer": "ipython3",
      "version": "3.6.7"
    },
    "colab": {
      "name": "02.ipynb",
      "provenance": []
    }
  },
  "cells": [
    {
      "cell_type": "markdown",
      "metadata": {
        "id": "W5Oi0ozG3Mm0",
        "colab_type": "text"
      },
      "source": [
        "<small><small><i>\n",
        "Este notebook foi baseado nos notebooks disponíveis em [https://gitlab.erc.monash.edu.au/andrease/Python4Maths.git]\n",
        "</i></small></small>"
      ]
    },
    {
      "cell_type": "markdown",
      "metadata": {
        "id": "Eoq5NcYY3Mm5",
        "colab_type": "text"
      },
      "source": [
        "# Comparando e decidindo\n",
        "\n",
        "Python permite comparar os valores associados a diferentes variáveis usando **operadores de comparação**. \n",
        "\n",
        "Expressões que contêm operadores de comparação são chamadas **expressões lógicas** e podem ser usadas em **estruturas de decisão** para decidir o que o seu código deve fazer. \n",
        "\n",
        "Neste roteiro, você aprenderá a utilizar estes conceitos da linguagem Python.\n",
        "\n",
        "## Operadores de comparação\n",
        "\n",
        "Operadores de comparação são utilizados para construir **expressões lógicas**. \n",
        "\n",
        "As regras básicas sobre expressões lógicas em Python são:\n",
        "\n",
        "* Expressões lógicas são avaliadas como verdadeiras (**True**) ou falsas (**False**).\n",
        "* Todos os operadores de comparação em Python têm precedência igual. \n",
        "* Assim como em expressões aritméticas, é possível usar parênteses para mudar a ordem de avaliação de uma expressão.\n",
        "* Caso haja empate de precedência, a expressão é avaliada da esquerda para a direita.\n",
        "\n",
        "Alguns dos operadores de comparação disponíveis em Python estão listados abaixo. "
      ]
    },
    {
      "cell_type": "markdown",
      "metadata": {
        "id": "62GKTtAq3Mm7",
        "colab_type": "text"
      },
      "source": [
        "| Símbolo | Significado |\n",
        "|:----:|---|\n",
        "| == | Igualdade |\n",
        "| !=  | Diferença |\n",
        "| < | Menor |\n",
        "| > | Maior |\n",
        "| <=  | Menor ou igual |\n",
        "| >=  | Maior ou igual |\n",
        "\n",
        "Note que é diferente usar `==` (comparação de igualdade) e `=` (associação de variável a valor)."
      ]
    },
    {
      "cell_type": "code",
      "metadata": {
        "id": "X_TtXYeF3MnF",
        "colab_type": "code",
        "colab": {}
      },
      "source": [
        "z = 2\n",
        "z == 2"
      ],
      "execution_count": 0,
      "outputs": []
    },
    {
      "cell_type": "code",
      "metadata": {
        "id": "oyxzfdEd3MnS",
        "colab_type": "code",
        "colab": {}
      },
      "source": [
        "z > 2"
      ],
      "execution_count": 0,
      "outputs": []
    },
    {
      "cell_type": "code",
      "metadata": {
        "id": "4oyga-X43Mne",
        "colab_type": "code",
        "colab": {}
      },
      "source": [
        "z <= 2"
      ],
      "execution_count": 0,
      "outputs": []
    },
    {
      "cell_type": "code",
      "metadata": {
        "scrolled": true,
        "id": "g2GE0X3G3Mnk",
        "colab_type": "code",
        "colab": {}
      },
      "source": [
        "z != 2"
      ],
      "execution_count": 0,
      "outputs": []
    },
    {
      "cell_type": "markdown",
      "metadata": {
        "id": "C0E0j1D33Mns",
        "colab_type": "text"
      },
      "source": [
        "### Exercícios de fixação"
      ]
    },
    {
      "cell_type": "markdown",
      "metadata": {
        "id": "0jRjhUS13Mnt",
        "colab_type": "text"
      },
      "source": [
        "1 - Leia dois números inteiros e teste se o primeiro é menor do que o segundo."
      ]
    },
    {
      "cell_type": "code",
      "metadata": {
        "id": "XdqfPwlL3Mnv",
        "colab_type": "code",
        "colab": {
          "base_uri": "https://localhost:8080/",
          "height": 68
        },
        "outputId": "d3d91cfc-15df-418c-8842-51063c417231"
      },
      "source": [
        "numero1 = int(input(\"Digite o primeiro número:\"))\n",
        "numero2 = int(input(\"Digite o segundo número:\"))\n",
        "\n",
        "numero1 < numero2"
      ],
      "execution_count": 1,
      "outputs": [
        {
          "output_type": "stream",
          "text": [
            "Digite o primeiro número:3\n",
            "Digite o segundo número:4\n"
          ],
          "name": "stdout"
        },
        {
          "output_type": "execute_result",
          "data": {
            "text/plain": [
              "True"
            ]
          },
          "metadata": {
            "tags": []
          },
          "execution_count": 1
        }
      ]
    },
    {
      "cell_type": "markdown",
      "metadata": {
        "id": "4OoZyp823Mn1",
        "colab_type": "text"
      },
      "source": [
        "2 - Sorteie dois números e teste se ambos são iguais.\n",
        "\n",
        "**Dica --** O procedimento **randint**(*menor*, *maior*) sorteia inteiros no intervalo entre menor e maior. Este procedimento não é um procedimento nativo do Python, por isso precisamos importá-lo do módulo **random**, que o fornece."
      ]
    },
    {
      "cell_type": "code",
      "metadata": {
        "scrolled": true,
        "id": "DZQ4PNSq3Mn4",
        "colab_type": "code",
        "colab": {
          "base_uri": "https://localhost:8080/",
          "height": 68
        },
        "outputId": "83830fcd-eb3e-42de-873f-0546dd00fa40"
      },
      "source": [
        "from random import randint\n",
        "numero1 = randint(0,100)\n",
        "numero2 = randint(0,100)\n",
        "\n",
        "print(numero1 == numero2)\n",
        "print(numero1)\n",
        "print(numero2)"
      ],
      "execution_count": 6,
      "outputs": [
        {
          "output_type": "stream",
          "text": [
            "False\n",
            "18\n",
            "96\n"
          ],
          "name": "stdout"
        }
      ]
    },
    {
      "cell_type": "markdown",
      "metadata": {
        "id": "jgvCad6Q3Mn7",
        "colab_type": "text"
      },
      "source": [
        "### Comparando textos"
      ]
    },
    {
      "cell_type": "markdown",
      "metadata": {
        "id": "kdRFBm3E3Mn8",
        "colab_type": "text"
      },
      "source": [
        "Também é possível utilizar operadores de comparação para comparar textos:\n",
        "* A igualdade (==) e a diferença (!=) funcionam de forma trivial, assim como no caso dos valores numéricos.\n",
        "* As demais operações consideram a ordem alfabética.\n"
      ]
    },
    {
      "cell_type": "code",
      "metadata": {
        "id": "RrV2LT3L3Mn9",
        "colab_type": "code",
        "colab": {}
      },
      "source": [
        "nome = \"Stevejobsson\"\n",
        "nome == \"Stevejobsson\""
      ],
      "execution_count": 0,
      "outputs": []
    },
    {
      "cell_type": "code",
      "metadata": {
        "id": "RzVCekny3MoB",
        "colab_type": "code",
        "colab": {}
      },
      "source": [
        "nome != \"Facebookson\""
      ],
      "execution_count": 0,
      "outputs": []
    },
    {
      "cell_type": "code",
      "metadata": {
        "id": "K7sJJNx73MoD",
        "colab_type": "code",
        "colab": {}
      },
      "source": [
        "'abc' < 'bbc'"
      ],
      "execution_count": 0,
      "outputs": []
    },
    {
      "cell_type": "code",
      "metadata": {
        "id": "tNGEDtyz3MoF",
        "colab_type": "code",
        "colab": {}
      },
      "source": [
        "'bbc' <= 'bbc'"
      ],
      "execution_count": 0,
      "outputs": []
    },
    {
      "cell_type": "code",
      "metadata": {
        "id": "8T6pMu5I3MoK",
        "colab_type": "code",
        "colab": {}
      },
      "source": [
        "'bbc' <= 'bac'"
      ],
      "execution_count": 0,
      "outputs": []
    },
    {
      "cell_type": "markdown",
      "metadata": {
        "id": "NFrDHrCK3MoM",
        "colab_type": "text"
      },
      "source": [
        "### Exercícios de fixação"
      ]
    },
    {
      "cell_type": "markdown",
      "metadata": {
        "id": "jKgpcfH03MoN",
        "colab_type": "text"
      },
      "source": [
        "3 - Leia dois nomes e teste se o primeiro é anterior ao segundo considerando a ordem alfabética."
      ]
    },
    {
      "cell_type": "code",
      "metadata": {
        "id": "aUcEut_Q3MoO",
        "colab_type": "code",
        "colab": {
          "base_uri": "https://localhost:8080/",
          "height": 68
        },
        "outputId": "afad964e-f480-45bb-c228-4c7032cbc93b"
      },
      "source": [
        "nome1 = input(\"Digite o primeiro nome:\")\n",
        "nome2 = input(\"Digite o segundo nome:\")\n",
        "\n",
        "nome1 < nome2"
      ],
      "execution_count": 7,
      "outputs": [
        {
          "output_type": "stream",
          "text": [
            "Digite o primeiro nome:abcd\n",
            "Digite o segundo nome:aabc\n"
          ],
          "name": "stdout"
        },
        {
          "output_type": "execute_result",
          "data": {
            "text/plain": [
              "False"
            ]
          },
          "metadata": {
            "tags": []
          },
          "execution_count": 7
        }
      ]
    },
    {
      "cell_type": "markdown",
      "metadata": {
        "id": "b5AkXJkS3MoW",
        "colab_type": "text"
      },
      "source": [
        "4 - Teste se os textos \"Python\" e \"python\" são considerados idênticos."
      ]
    },
    {
      "cell_type": "code",
      "metadata": {
        "id": "phYEZ6Fx3MoX",
        "colab_type": "code",
        "colab": {
          "base_uri": "https://localhost:8080/",
          "height": 34
        },
        "outputId": "2309c278-fec4-4ed2-8ae4-27d74a0de989"
      },
      "source": [
        "\"Python\" == \"python\""
      ],
      "execution_count": 8,
      "outputs": [
        {
          "output_type": "execute_result",
          "data": {
            "text/plain": [
              "False"
            ]
          },
          "metadata": {
            "tags": []
          },
          "execution_count": 8
        }
      ]
    },
    {
      "cell_type": "markdown",
      "metadata": {
        "id": "9HYX13P93MoZ",
        "colab_type": "text"
      },
      "source": [
        "## Operadores lógicos"
      ]
    },
    {
      "cell_type": "markdown",
      "metadata": {
        "id": "hF5i-6UN3MoZ",
        "colab_type": "text"
      },
      "source": [
        "É possível criar expressões lógicas mais complexas utilizando **operadores lógicos**.\n",
        "\n",
        "Os operadores lógicos mais simples do Python são os operadores E (**and**) e OU (**or**).\n",
        "\n",
        "As regras básicas sobre expressões que contenham operadores lógicos em Python são:\n",
        "\n",
        "* Operadores de comparação têm maior precedência que operadores lógicos.\n",
        "* O operador lógico **and** tem maior precedência que o operador **or**. \n",
        "* É possível usar parênteses para mudar a ordem de avaliação de uma expressão.\n",
        "* Caso reste apenas operações de mesma precedência, a expressão passa a ser avaliada da esquerda para a direita."
      ]
    },
    {
      "cell_type": "markdown",
      "metadata": {
        "id": "h9ljg0An3Moa",
        "colab_type": "text"
      },
      "source": [
        "| Símbolo | Significado |\n",
        "|:----:|---|\n",
        "| **and** | **True**, desde que ambos os lados da expressão sejam verdadeiros |\n",
        "| **or**  | **True**, desde que pelo menos um lado da expressão seja verdadeiro |"
      ]
    },
    {
      "cell_type": "code",
      "metadata": {
        "id": "l29aU0m-3Moa",
        "colab_type": "code",
        "colab": {}
      },
      "source": [
        "\"a\" < \"b\" and 5 >= 5"
      ],
      "execution_count": 0,
      "outputs": []
    },
    {
      "cell_type": "code",
      "metadata": {
        "id": "0E8QQO-B3Mog",
        "colab_type": "code",
        "colab": {}
      },
      "source": [
        "\"a\" <= \"b\" and 5 > 5"
      ],
      "execution_count": 0,
      "outputs": []
    },
    {
      "cell_type": "code",
      "metadata": {
        "id": "McgrxjsW3Mok",
        "colab_type": "code",
        "colab": {}
      },
      "source": [
        "\"a\" <= \"b\" or 5 > 5"
      ],
      "execution_count": 0,
      "outputs": []
    },
    {
      "cell_type": "markdown",
      "metadata": {
        "id": "Qt6VY8M43Mom",
        "colab_type": "text"
      },
      "source": [
        "### Exercícios de fixação"
      ]
    },
    {
      "cell_type": "markdown",
      "metadata": {
        "id": "dAR8UQ5C3Mon",
        "colab_type": "text"
      },
      "source": [
        "5 - Leia um gênero e uma idade. Teste se esta combinação representa alguém em situação de obrigatoriedade militar.\n",
        "\n",
        "**Dica --** Em tempos de \"paz\", o serviço militar só é obrigatório para homens maiores de idade."
      ]
    },
    {
      "cell_type": "code",
      "metadata": {
        "id": "jXge48Vt3Mon",
        "colab_type": "code",
        "colab": {
          "base_uri": "https://localhost:8080/",
          "height": 68
        },
        "outputId": "84179445-0b1a-46e4-ecb9-96c675b7e925"
      },
      "source": [
        "genero = input(\"Digite um gênero:\")\n",
        "idade = int(input(\"Digite uma idade:\"))\n",
        "\n",
        "genero == 'M' and idade > 18"
      ],
      "execution_count": 10,
      "outputs": [
        {
          "output_type": "stream",
          "text": [
            "Digite um gênero:M\n",
            "Digite uma idade:3\n"
          ],
          "name": "stdout"
        },
        {
          "output_type": "execute_result",
          "data": {
            "text/plain": [
              "False"
            ]
          },
          "metadata": {
            "tags": []
          },
          "execution_count": 10
        }
      ]
    },
    {
      "cell_type": "markdown",
      "metadata": {
        "id": "2SZo4Kio3Mop",
        "colab_type": "text"
      },
      "source": [
        "6 - Leia uma idade e teste se esta pessoa está obrigada a votar.\n",
        "\n",
        "**Dica --** Estão obrigados a votar pessoas entre 18 e 70 anos de idade."
      ]
    },
    {
      "cell_type": "code",
      "metadata": {
        "id": "li_S-s3u3Moq",
        "colab_type": "code",
        "colab": {
          "base_uri": "https://localhost:8080/",
          "height": 51
        },
        "outputId": "7107edf1-ea14-4107-ee92-8da4e82e1eed"
      },
      "source": [
        "idade = int(input(\"Digite uma idade:\"))\n",
        "\n",
        "idade >= 18 and idade <= 70"
      ],
      "execution_count": 11,
      "outputs": [
        {
          "output_type": "stream",
          "text": [
            "Digite uma idade:45\n"
          ],
          "name": "stdout"
        },
        {
          "output_type": "execute_result",
          "data": {
            "text/plain": [
              "True"
            ]
          },
          "metadata": {
            "tags": []
          },
          "execution_count": 11
        }
      ]
    },
    {
      "cell_type": "markdown",
      "metadata": {
        "id": "H-7m0GBE3Mor",
        "colab_type": "text"
      },
      "source": [
        "7 - Leia uma idade e teste se para esta pessoa o voto é facultativo.\n",
        "\n",
        "**Dica --** O voto é facultativo para pessoas entre 16 e 18 anos ou acima dos 70 anos."
      ]
    },
    {
      "cell_type": "code",
      "metadata": {
        "id": "I7HQptD33Mos",
        "colab_type": "code",
        "colab": {
          "base_uri": "https://localhost:8080/",
          "height": 51
        },
        "outputId": "e16693da-c932-4355-f28b-21cfbee8e05c"
      },
      "source": [
        "idade = int(input(\"Digite uma idade:\"))\n",
        "\n",
        "(idade >= 16 and idade <= 18) or idade > 70"
      ],
      "execution_count": 12,
      "outputs": [
        {
          "output_type": "stream",
          "text": [
            "Digite uma idade:17\n"
          ],
          "name": "stdout"
        },
        {
          "output_type": "execute_result",
          "data": {
            "text/plain": [
              "True"
            ]
          },
          "metadata": {
            "tags": []
          },
          "execution_count": 12
        }
      ]
    },
    {
      "cell_type": "markdown",
      "metadata": {
        "id": "HC0uktgz3Mou",
        "colab_type": "text"
      },
      "source": [
        "8 - Leia três inteiros e teste se o primeiro pertence ao intervalo delimitado pelos dois últimos.\n",
        "\n",
        "**Observação --** Por simplicidade, suponha que os dois últimos números estão ordenados de forma crescente."
      ]
    },
    {
      "cell_type": "code",
      "metadata": {
        "id": "XOJBKL1w3Mou",
        "colab_type": "code",
        "colab": {
          "base_uri": "https://localhost:8080/",
          "height": 85
        },
        "outputId": "af2b43e2-8f32-43ae-dc3e-6b95f53628c9"
      },
      "source": [
        "numero = int(input(\"Digite um valor:\"))\n",
        "intervalo_inicio = int(input(\"Digite o início do intervalo:\"))\n",
        "intervalo_fim = int(input(\"Digite o fim do intervalo:\"))\n",
        "\n",
        "numero >= intervalo_inicio and numero <= intervalo_fim"
      ],
      "execution_count": 14,
      "outputs": [
        {
          "output_type": "stream",
          "text": [
            "Digite um valor:10\n",
            "Digite o início do intervalo:5\n",
            "Digite o fim do intervalo:8\n"
          ],
          "name": "stdout"
        },
        {
          "output_type": "execute_result",
          "data": {
            "text/plain": [
              "False"
            ]
          },
          "metadata": {
            "tags": []
          },
          "execution_count": 14
        }
      ]
    },
    {
      "cell_type": "markdown",
      "metadata": {
        "id": "_e2KqEDO3Mow",
        "colab_type": "text"
      },
      "source": [
        "### Estruturas de decisão"
      ]
    },
    {
      "cell_type": "markdown",
      "metadata": {
        "id": "pAABIBzX3Mox",
        "colab_type": "text"
      },
      "source": [
        "A principal estrutura utilizada em Python para definir se um trecho de um código será executado é a estrutura **if**, ilustrada a seguir:\n",
        "\n",
        "```python\n",
        "if condicao:\n",
        "    expressao\n",
        "    expressao\n",
        "    ...```"
      ]
    },
    {
      "cell_type": "markdown",
      "metadata": {
        "id": "2tkB7PDB3Moy",
        "colab_type": "text"
      },
      "source": [
        "As regras básicas para o uso da estrutura **if** em Python são:\n",
        "\n",
        "* O trecho de código delimitado por uma estrutura **if** é chamado bloco.\n",
        "* Um bloco é caracterizado pela *identação* de suas linhas. Assim, a quantidade de espaços no começo de cada linha é bastante importante no Python.\n",
        "* O bloco de uma estrutura **if** só é executado se sua condição for satisfeita. A condição é avaliada como uma expressão lógica."
      ]
    },
    {
      "cell_type": "code",
      "metadata": {
        "id": "sttJuirL3Moz",
        "colab_type": "code",
        "colab": {}
      },
      "source": [
        "numero = int(input())\n",
        "if numero % 2 == 0:\n",
        "    print(\"O número\", numero, \"é par.\")"
      ],
      "execution_count": 0,
      "outputs": []
    },
    {
      "cell_type": "markdown",
      "metadata": {
        "id": "3KQ0Uszc3Mo1",
        "colab_type": "text"
      },
      "source": [
        "### Exercícios de fixação"
      ]
    },
    {
      "cell_type": "markdown",
      "metadata": {
        "id": "wHXJZryP3Mo2",
        "colab_type": "text"
      },
      "source": [
        "9 - Leia um inteiro e o imprima se ele for múltiplo de 3."
      ]
    },
    {
      "cell_type": "code",
      "metadata": {
        "id": "rBMGJ_iQ3Mo2",
        "colab_type": "code",
        "colab": {
          "base_uri": "https://localhost:8080/",
          "height": 51
        },
        "outputId": "60ae67e4-e533-4b79-b147-eda99159700c"
      },
      "source": [
        "numero = int(input(\"Digite um número:\"))\n",
        "if numero % 3 == 0:\n",
        "    print(\"O número\", numero, \"é múltiplo de 3.\")"
      ],
      "execution_count": 16,
      "outputs": [
        {
          "output_type": "stream",
          "text": [
            "Digite um número:12\n",
            "O número 12 é múltiplo de 3.\n"
          ],
          "name": "stdout"
        }
      ]
    },
    {
      "cell_type": "markdown",
      "metadata": {
        "id": "RUSmoNvf3Mo3",
        "colab_type": "text"
      },
      "source": [
        "10 - Informe entradas para o código abaixo que façam a mensagem ser impressa."
      ]
    },
    {
      "cell_type": "code",
      "metadata": {
        "id": "qT7gpY_63Mo4",
        "colab_type": "code",
        "colab": {
          "base_uri": "https://localhost:8080/",
          "height": 68
        },
        "outputId": "219108d6-64b1-4584-f19a-0e32606c0cdc"
      },
      "source": [
        "texto = input()\n",
        "numero = int(input())\n",
        "if texto < \"hello\" and numero ** 0.5 == 8:\n",
        "    print(\"Mensagem impressa ;)\")"
      ],
      "execution_count": 18,
      "outputs": [
        {
          "output_type": "stream",
          "text": [
            "aa\n",
            "64\n",
            "Mensagem impressa ;)\n"
          ],
          "name": "stdout"
        }
      ]
    },
    {
      "cell_type": "markdown",
      "metadata": {
        "id": "RoeBowN33Mo5",
        "colab_type": "text"
      },
      "source": [
        "### A estrutura ```if-else```"
      ]
    },
    {
      "cell_type": "markdown",
      "metadata": {
        "id": "pCYAbQ3h3Mo6",
        "colab_type": "text"
      },
      "source": [
        "Uma expansão da estrutura **if** é a estrutura **if-else**, que define trechos de código mutuamente exclusivos.\n",
        "\n",
        "```python\n",
        "if condicao:\n",
        "    # bloco se a condição for satisfeita\n",
        "    expressao\n",
        "    ...\n",
        "else:\n",
        "    # bloco se a condição não for satisfeita\n",
        "    expressao\n",
        "    ...\n",
        "```\n",
        "Ambos os blocos de uma estrutura **if-else** devem estar *identados*, de preferência pela mesma quantidade de espaços."
      ]
    },
    {
      "cell_type": "code",
      "metadata": {
        "id": "E98fqjMf3Mo6",
        "colab_type": "code",
        "colab": {}
      },
      "source": [
        "numero = int(input())\n",
        "if numero % 2 == 0:\n",
        "    print(\"O número\", numero, \"é par.\")\n",
        "else:\n",
        "    print(\"O número\", numero, \"é ímpar.\")"
      ],
      "execution_count": 0,
      "outputs": []
    },
    {
      "cell_type": "markdown",
      "metadata": {
        "id": "9JBwfP6-3Mo7",
        "colab_type": "text"
      },
      "source": [
        "### Exercícios de fixação"
      ]
    },
    {
      "cell_type": "markdown",
      "metadata": {
        "collapsed": true,
        "id": "RLGmVibX3Mo8",
        "colab_type": "text"
      },
      "source": [
        "11 - Leia um inteiro e informe se ele é ou não múltiplo de 6."
      ]
    },
    {
      "cell_type": "code",
      "metadata": {
        "id": "Ni90i_Q33Mo8",
        "colab_type": "code",
        "colab": {
          "base_uri": "https://localhost:8080/",
          "height": 51
        },
        "outputId": "9b63b342-8403-4d8a-d8c5-a555867e0949"
      },
      "source": [
        "numero = int(input(\"Digite um número:\"))\n",
        "if numero % 6 == 0:\n",
        "    print(\"O número\", numero, \"é múltiplo de 6.\")\n",
        "else:\n",
        "    print(\"O número\", numero, \"não é múltiplo de 6.\")"
      ],
      "execution_count": 20,
      "outputs": [
        {
          "output_type": "stream",
          "text": [
            "Digite um número:12\n",
            "O número 12 é múltiplo de 6.\n"
          ],
          "name": "stdout"
        }
      ]
    },
    {
      "cell_type": "markdown",
      "metadata": {
        "id": "jH3hDqkS3Mo-",
        "colab_type": "text"
      },
      "source": [
        "12 - Leia dois nomes de pessoas e os imprima em ordem alfabética."
      ]
    },
    {
      "cell_type": "code",
      "metadata": {
        "id": "PELXChwR3Mo-",
        "colab_type": "code",
        "colab": {
          "base_uri": "https://localhost:8080/",
          "height": 68
        },
        "outputId": "b187e711-8c3c-4c08-b3d6-43d42ab73b23"
      },
      "source": [
        "nome1 = input(\"Digite um nome:\")\n",
        "nome2 = input(\"Digite outro nome:\")\n",
        "\n",
        "if nome1 < nome2 :\n",
        "    print(nome1, nome2)\n",
        "else:\n",
        "    print(nome2, nome1)"
      ],
      "execution_count": 22,
      "outputs": [
        {
          "output_type": "stream",
          "text": [
            "Digite um nome:aa\n",
            "Digite outro nome:ab\n",
            "aa ab\n"
          ],
          "name": "stdout"
        }
      ]
    },
    {
      "cell_type": "markdown",
      "metadata": {
        "id": "3ITrRT243Mo_",
        "colab_type": "text"
      },
      "source": [
        "### A estrutura ```if-elif-else```"
      ]
    },
    {
      "cell_type": "markdown",
      "metadata": {
        "id": "gqt949zt3Mo_",
        "colab_type": "text"
      },
      "source": [
        "É possível utilizar a estrutura **if-elif-else** para especificar múltiplos fluxos de execução do algoritmo, em função de uma condição principal e de condições alternativas:\n",
        "\n",
        "```python\n",
        "if condicao_principal:\n",
        "    # bloco se a condição principal for satisfeita\n",
        "    expressao\n",
        "    ...\n",
        "elif condicao_alternativa_1:\n",
        "    # bloco se a condição principal não for satisfeita mas a condição alternativa 1 for\n",
        "    expressao\n",
        "    ...\n",
        "elif condicao_alternativa_2:\n",
        "    # bloco se nem a condição principal nem a condição alternativa 1 forem satisfeitas, mas a condição alternativa 2 for\n",
        "    expressao\n",
        "    ...\n",
        "...\n",
        "else:\n",
        "    # bloco se nem a condição principal nem as condições alternativas forem satisfeitas\n",
        "    expressao\n",
        "    ...\n",
        "\n",
        "```"
      ]
    },
    {
      "cell_type": "markdown",
      "metadata": {
        "id": "x2TGi8-d3MpA",
        "colab_type": "text"
      },
      "source": [
        "As regras básicas para o uso da estrutura **if-elif-else** em Python são:\n",
        "\n",
        "* O bloco **if** é executado se a condição principal for satisfeita.\n",
        "* Um bloco **elif** é executado se sua condição for satisfeita e as condições acima dele não forem. \n",
        "* O bloco **else** é executado se nenhuma condição for satisfeita.\n"
      ]
    },
    {
      "cell_type": "code",
      "metadata": {
        "id": "o8XVaAkF3MpB",
        "colab_type": "code",
        "colab": {}
      },
      "source": [
        "from random import randint\n",
        "\n",
        "numero = randint(0,100)\n",
        "chute = int(input(\"Chute um número entre 0 e 100: \"))\n",
        "if chute == numero:\n",
        "    print(\"Parabéns, você acertou!\")\n",
        "elif chute < numero:\n",
        "    print(\"Seu chute foi menor que o número sorteado!\")\n",
        "else:\n",
        "    print(\"Seu chute foi maior que o número sorteado!\")"
      ],
      "execution_count": 0,
      "outputs": []
    },
    {
      "cell_type": "markdown",
      "metadata": {
        "id": "mffYv8r43MpC",
        "colab_type": "text"
      },
      "source": [
        "### Exercícios de fixação"
      ]
    },
    {
      "cell_type": "markdown",
      "metadata": {
        "id": "heWXIEXF3MpD",
        "colab_type": "text"
      },
      "source": [
        "13 - Leia um número e teste se ele é positivo, negativo ou nulo."
      ]
    },
    {
      "cell_type": "code",
      "metadata": {
        "id": "0ICj8FH33MpD",
        "colab_type": "code",
        "colab": {
          "base_uri": "https://localhost:8080/",
          "height": 51
        },
        "outputId": "e0a26090-749a-4a51-cfc0-136193bb9f80"
      },
      "source": [
        "numero = int(input(\"Digite um número:\"))\n",
        "if numero > 0:\n",
        "    print(\"O número\", numero, \"é positivo.\")\n",
        "elif numero < 0:\n",
        "    print(\"O número\", numero, \"é negativo.\")\n",
        "else:\n",
        "    print(\"O número\", numero, \"é nulo.\")"
      ],
      "execution_count": 25,
      "outputs": [
        {
          "output_type": "stream",
          "text": [
            "Digite um número:-2\n",
            "O número -2 é negativo.\n"
          ],
          "name": "stdout"
        }
      ]
    },
    {
      "cell_type": "markdown",
      "metadata": {
        "id": "FPmobwiL3MpH",
        "colab_type": "text"
      },
      "source": [
        "### Combinando múltiplas estruturas de decisão"
      ]
    },
    {
      "cell_type": "markdown",
      "metadata": {
        "id": "qg6_j8K23MpI",
        "colab_type": "text"
      },
      "source": [
        "Também é possível combinar estruturas de decisão em múltiplos níveis, o que é conhecido como **aninhar estruturas**.\n",
        "\n",
        "As regras básicas para aninhar estruturas de decisão em Python são:\n",
        "* Não há limite com relação a quantas estruturas e em quantos níveis.\n",
        "* Blocos de níveis mais profundos devem apresentar maior grau de identação. "
      ]
    },
    {
      "cell_type": "code",
      "metadata": {
        "id": "GVUZ2xu93MpJ",
        "colab_type": "code",
        "colab": {}
      },
      "source": [
        "from random import randint\n",
        "\n",
        "numero = randint(0,100)\n",
        "if numero % 6 == 0:\n",
        "    print(\"O número\", numero, \"é múltiplo de 6!\")\n",
        "else:\n",
        "    if numero % 2 == 0:\n",
        "        print(\"O número\", numero, \"é múltiplo de 2, mas não de 3!\")\n",
        "    elif numero % 3 == 0:\n",
        "        print(\"O número\", numero, \"é múltiplo de 3, mas não de 2!\")\n",
        "    else:\n",
        "        print(\"O número\", numero, \"não é multiplo de 2 nem de 3, muito menos de 6!\")"
      ],
      "execution_count": 0,
      "outputs": []
    },
    {
      "cell_type": "markdown",
      "metadata": {
        "collapsed": true,
        "id": "8DCA0NWn3MpK",
        "colab_type": "text"
      },
      "source": [
        "## Exercícios do URI"
      ]
    },
    {
      "cell_type": "markdown",
      "metadata": {
        "collapsed": true,
        "id": "3elNu5wQ3MpK",
        "colab_type": "text"
      },
      "source": [
        "[1037](https://www.urionlinejudge.com.br/judge/pt/problems/view/1037) - Um histograma é um tipo de gráfico estatístico que particiona os dados disponíveis em subgrupos e informa quantos elementos existem em cada subgrupo.\n",
        "\n",
        "Escreva um código Python que possa ser usado para construir um histograma de um conjunto de números inteiros sorteados no intervalo [0,100), isto é, valores maiores ou iguais a 0 e menores que 100. \n",
        "\n",
        "Por simplicidade, considere que apenas um número será sorteado. Você deve identificar a qual dos intervalos a seguir este número pertence: [0,25), [25,50), [50,75), [75,100). "
      ]
    },
    {
      "cell_type": "markdown",
      "metadata": {
        "id": "pI45nqAf3MpL",
        "colab_type": "text"
      },
      "source": [
        "|.| Entrada | Saída |\n",
        "|-|:----:|---|\n",
        "| *Exemplo 1* | 5 | [0,25) | \n",
        "| *Exemplo 2* | 50 | [50,75) |\n",
        "| *Exemplo 3* | 74 | [50,75) |"
      ]
    },
    {
      "cell_type": "code",
      "metadata": {
        "id": "vbABjMSv3MpM",
        "colab_type": "code",
        "colab": {
          "base_uri": "https://localhost:8080/",
          "height": 51
        },
        "outputId": "5ef7ac39-7971-4d71-ab4c-a324c853d6e3"
      },
      "source": [
        "numero = int(input(\"Digite um número:\"))\n",
        "\n",
        "if numero >= 0 and numero < 25:\n",
        "  print(\"[0,25)]\")\n",
        "elif numero >= 25 and numero < 50:\n",
        "  print(\"[25,50)]\")\n",
        "elif numero >= 50 and numero < 75:\n",
        "  print(\"[50,75)]\")\n",
        "elif numero >= 75 and numero < 100:\n",
        "  print(\"[75,100)]\")"
      ],
      "execution_count": 1,
      "outputs": [
        {
          "output_type": "stream",
          "text": [
            "Digite um número:12\n",
            "[0,25)]\n"
          ],
          "name": "stdout"
        }
      ]
    },
    {
      "cell_type": "markdown",
      "metadata": {
        "id": "88vk7nZm3MpN",
        "colab_type": "text"
      },
      "source": [
        "[1049](https://www.urionlinejudge.com.br/judge/pt/problems/view/1049) - Uma árvore de classificação é uma ferramenta usada em diferentes áreas da ciência para ajudar a identificar objetos por suas características.\n",
        "\n",
        "Considerando a árvore de classificação abaixo, escreva um código Python que identifique um animal por suas características. Mais precisamente, seu código deve receber três textos como entrada e informar ao usuário de qual animal se trata.\n",
        "\n",
        "<img src=\"https://github.com/leobezerra/python-zero/blob/master/imgs/UOJ_1049_b.png?raw=1\">"
      ]
    },
    {
      "cell_type": "markdown",
      "metadata": {
        "id": "_z6QWK563MpQ",
        "colab_type": "text"
      },
      "source": [
        "|.| Entrada | Saída |\n",
        "|-|----|---|\n",
        "| *Exemplo 1* | vertebrado<br/>mamifero<br/>onivoro | homem | \n",
        "| *Exemplo 2* | vertebrado<br/>ave<br/>carnivoro | aguia |\n",
        "| *Exemplo 3* | invertebrado<br/>anelideo<br/>onivoro | minhoca |"
      ]
    },
    {
      "cell_type": "code",
      "metadata": {
        "id": "EVv1MZM03MpQ",
        "colab_type": "code",
        "colab": {
          "base_uri": "https://localhost:8080/",
          "height": 85
        },
        "outputId": "5c460153-220d-4ad1-cba1-249e9ba795c6"
      },
      "source": [
        "classe1 = input()\n",
        "classe2 = input()\n",
        "classe3 = input()\n",
        "\n",
        "\n",
        "if classe1 == \"vertebrado\":\n",
        "  if classe2 == \"ave\" :\n",
        "    if classe3 == \"carnivoro\" :\n",
        "      print(\"aguia\")\n",
        "    elif classe3 == \"onivoro\" :\n",
        "      print(\"pomba\")\n",
        "  elif classe2 == \"mamifero\" :\n",
        "    if classe3 == \"onivoro\" :\n",
        "      print(\"homem\")\n",
        "    elif classe3 == \"herbivoro\" :\n",
        "      print(\"vaca\")      \n",
        "elif classe1 == \"invertebrado\":\n",
        "  if classe2 == \"inseto\" :\n",
        "    if classe3 == \"hematofogo\" :\n",
        "      print(\"pulga\")\n",
        "    elif classe3 == \"herbivoro\" :\n",
        "      print(\"lagarta\")      \n",
        "  elif classe2 == \"anelideo\" :\n",
        "    if classe3 == \"hematofogo\" :\n",
        "      print(\"sanguessuga\")\n",
        "    elif classe3 == \"onivoro\" :\n",
        "      print(\"minhoca\")      "
      ],
      "execution_count": 4,
      "outputs": [
        {
          "output_type": "stream",
          "text": [
            "vertebrado\n",
            "mamifero\n",
            "onivoro\n",
            "homem\n"
          ],
          "name": "stdout"
        }
      ]
    },
    {
      "cell_type": "markdown",
      "metadata": {
        "id": "531f1PaH3MpS",
        "colab_type": "text"
      },
      "source": [
        "\n",
        "[1041](https://www.urionlinejudge.com.br/judge/pt/problems/view/1041) - Em sistemas de computação gráfica, compreender diferentes sistemas de coordenadas é fundamental.\n",
        "\n",
        "Considere o sistema de coordenadas cartesiano apresentado na figura abaixo. Ele serve para representar pontos que apresentam duas dimensões, normalmente representados com a notação (x, y), onde x representa a coordenada horizontal e y a vertical.\n",
        "\n",
        "<img src=\"https://github.com/leobezerra/python-zero/blob/master/imgs/UOJ_1041.png?raw=1\">\n",
        "\n",
        "O ponto (0,0) representa a origem dos eixos e é a intersecção entre as quatro subregiões ilustradas na figura abaixo (Q1, Q2, Q3 e Q4, onde Q significa *quadrante*, isto é, uma subregião). Cada quadrante da figura representa pontos com as seguintes características:\n",
        "\n",
        "| Quadrante | Horizontal | Vertical |\n",
        "|:-:|:-:|:-:|\n",
        "| Q1 | x > 0 | y > 0 |\n",
        "| Q2 | x < 0 | y > 0 |\n",
        "| Q3 | x < 0 | y < 0 |\n",
        "| Q4 | x > 0 | y < 0 |\n",
        "\n",
        "Também é possível que um ponto esteja sobre um dos eixos:\n",
        "* Um ponto estará sobre o eixo x se y = 0;\n",
        "* Um ponto estará sobre o eixo y se x = 0.\n",
        "\n",
        "Considerando este contexto, escreva um código Python que leia um ponto (duas coordenadas reais) e informe a primeira condição abaixo que se mostrar verdadeira:\n",
        "* Se o ponto está na \"Origem\";\n",
        "* Se o ponto está sobre o \"Eixo X\";\n",
        "* Se o ponto está sobre o \"Eixo Y\";\n",
        "* Em qual quadrante o ponto está."
      ]
    },
    {
      "cell_type": "markdown",
      "metadata": {
        "id": "ycVpzMDb3MpT",
        "colab_type": "text"
      },
      "source": [
        "|.| Entrada | Saída |\n",
        "|-|:-:|:-:|\n",
        "| *Exemplo 1* | 4.5<br/>-2.2 | Q4 | \n",
        "| *Exemplo 2* | 0.1<br/>0.0 | Eixo X |\n",
        "| *Exemplo 3* | 0.0<br/>0.0 | Origem |"
      ]
    },
    {
      "cell_type": "code",
      "metadata": {
        "id": "sXfeA0yW3MpU",
        "colab_type": "code",
        "colab": {
          "base_uri": "https://localhost:8080/",
          "height": 68
        },
        "outputId": "de0b9939-2dbf-40a0-e45b-7b17623c08ff"
      },
      "source": [
        "x = float(input(\"Digite a posicao em X:\"))\n",
        "y = float(input(\"Digite a posicao em Y:\"))\n",
        "\n",
        "if x == 0 and y == 0:\n",
        "  print(\"Origem\")\n",
        "elif x == 0 and y != 0:\n",
        "  print(\"Eixo X\")\n",
        "elif x != 0 and y == 0:\n",
        "  print(\"Eixo Y\")\n",
        "else:\n",
        "  if x > 0 and y > 0:\n",
        "    print(\"Q1\")\n",
        "  elif x < 0 and y > 0:\n",
        "    print(\"Q2\")\n",
        "  elif x < 0 and y < 0:\n",
        "    print(\"Q3\")\n",
        "  elif x > 0 and y < 0:\n",
        "    print(\"Q4\")"
      ],
      "execution_count": 17,
      "outputs": [
        {
          "output_type": "stream",
          "text": [
            "Digite a posicao em X:-1\n",
            "Digite a posicao em Y:-1\n",
            "Q3\n"
          ],
          "name": "stdout"
        }
      ]
    },
    {
      "cell_type": "markdown",
      "metadata": {
        "id": "ubLgATdn3MpZ",
        "colab_type": "text"
      },
      "source": [
        "[1051](https://www.urionlinejudge.com.br/judge/pt/problems/view/1051) - Sistemas contábeis e de recursos humanos precisam conhecer bem a legislação tributária do país para calcular os impostos a serem recolhidos mensalmente sobre o salário dos funcionários. \n",
        "\n",
        "Trabalhadores também precisam entender quanto ganham e porque existem descontos em seus contra-cheques.\n",
        "\n",
        "Neste exercício, você vai ajudar empresas e trabalhadores a entender os descontos da previdência social (INSS).\n",
        "\n",
        "A tabela usada para calcular esses descontos é apresentada a seguir."
      ]
    },
    {
      "cell_type": "markdown",
      "metadata": {
        "id": "ChZu3Xul3MpZ",
        "colab_type": "text"
      },
      "source": [
        "| Salário de contribuição | Alíquota |\n",
        "|:-:|:-:|\n",
        "| Até 1.693,72 | 8% | \n",
        "| De 1.693,73 a 2.822,90 | 9% |\n",
        "| De 2.822,91 até 5.645,80 | 11% |"
      ]
    },
    {
      "cell_type": "markdown",
      "metadata": {
        "id": "-lNQc2yq3Mpa",
        "colab_type": "text"
      },
      "source": [
        "Como você pode ver, o desconto sobre o salário depende da faixa salarial na qual um trabalhador se enquadre.\n",
        "\n",
        "Além disso, existe um teto na tabela que determina que pessoas que ganhem a partir de 5.645,81 devem contribuir com 621,04 (11% de 5.645,80).\n",
        "\n",
        "Escreva um código Python que receba um salário bruto (antes do desconto) e informe o valor da contribuição para o INSS e o salário líquido (após o desconto)."
      ]
    },
    {
      "cell_type": "markdown",
      "metadata": {
        "id": "OrvIzMaj3Mpa",
        "colab_type": "text"
      },
      "source": [
        "|.| Entrada | Saída |\n",
        "|-|:-:|-|\n",
        "| *Exemplo 1* | 7456.57 | 621.04 6835.53 | \n",
        "| *Exemplo 2* | 2822.90 | 254.06 2568.84 |\n",
        "| *Exemplo 3* | 1693.73 | 152.44 1541.29 |"
      ]
    },
    {
      "cell_type": "code",
      "metadata": {
        "id": "CDUzlDQl3Mpa",
        "colab_type": "code",
        "colab": {
          "base_uri": "https://localhost:8080/",
          "height": 51
        },
        "outputId": "9e1f8a07-2ef5-49b8-e111-ed5419a01acc"
      },
      "source": [
        "bruto = float(input(\"Digite o salario bruto:\"))\n",
        "liquido = 0\n",
        "\n",
        "if bruto <= 1693.72:\n",
        "  inss = bruto * 0.08\n",
        "elif bruto > 1693.72 and bruto <= 2822.90:\n",
        "  inss = bruto * 0.09\n",
        "elif bruto > 2822.90 and bruto <= 5645.80:\n",
        "  inss = bruto * 0.11\n",
        "elif bruto > 5645.80:\n",
        "  inss = bruto - 621.04\n",
        "\n",
        "liquido = bruto - inss\n",
        "\n",
        "print(round(inss, 2), round(liquido, 2))"
      ],
      "execution_count": 26,
      "outputs": [
        {
          "output_type": "stream",
          "text": [
            "Digite o salario bruto:1693.73\n",
            "152.44 1541.29\n"
          ],
          "name": "stdout"
        }
      ]
    },
    {
      "cell_type": "markdown",
      "metadata": {
        "id": "B8QQ5vgb3Mpc",
        "colab_type": "text"
      },
      "source": [
        "Um segundo tipo de dedução mensal que incide sobre os ganhos dos trabalhadores é o *imposto de renda sobre pessoa física* (IRPF).\n",
        "\n",
        "Para o cálculo do IRPF, utiliza-se como base de cálculo o salário bruto descontado da contribuição do INSS. \n",
        "\n",
        "As principais diferenças em relação ao cálculo do INSS são:\n",
        "* Quem possui salário-base até 1.903,98 é isento do pagamento do IRPF.\n",
        "* Não há teto para a contribuição do IRPF.\n",
        "* O valor do IRPF cobrado a uma pessoa é abatido de um valor que varia em função da alíquota correspondente.\n",
        "\n",
        "A tabela usada para o cálculo do IRPF é mostrada abaixo."
      ]
    },
    {
      "cell_type": "markdown",
      "metadata": {
        "id": "btJRid9o3Mpd",
        "colab_type": "text"
      },
      "source": [
        "| Base de cálculo (R\\$) | Alíquota | Parcela a deduzir |\n",
        "|:-:|:-:|:-:|\n",
        "| Até 1.903,98 | - | - |\n",
        "| De 1.903,99 até 2.826,65 | 7,5% | 142,80 |\n",
        "| De 2.826,66 até 3.751,05 | 15% | 354,80 |\n",
        "| De 3.751,06 até 4.664,68 | 22,5% | 636,13 |\n",
        "| Acima de 4.664,68 | 27,5% | 869,36 |"
      ]
    },
    {
      "cell_type": "markdown",
      "metadata": {
        "id": "oaOYCQP43Mpd",
        "colab_type": "text"
      },
      "source": [
        "Para entender melhor o cálculo do IRPF, vamos tomar como exemplo uma pessoa que, descontada a contribuição do INSS, ganha 2.000,00.\n",
        "\n",
        "A alíquota para esta remuneração é de 7,5% e o abatimento de 142,80. Assim, a contribuição do IRPF será de 2.000,00 * 7,5% - 142,80 = 7,20.\n",
        "\n",
        "Escreva um código Python que receba um salário-base (já descontado do INSS) e informe o valor da contribuição do IRPF e o salário líquido (após o desconto do IRPF)."
      ]
    },
    {
      "cell_type": "markdown",
      "metadata": {
        "id": "W8T6bg2-3Mpe",
        "colab_type": "text"
      },
      "source": [
        "|.| Entrada | Saída |\n",
        "|-|:-:|-|\n",
        "| *Exemplo 1* | 6835.53 | 1010.41 5825.12 | \n",
        "| *Exemplo 2* | 2568.84 | 49.86 2518.98 |\n",
        "| *Exemplo 3* | 1541.29 | 0.00 1541.29 |"
      ]
    },
    {
      "cell_type": "code",
      "metadata": {
        "id": "BZGJ4_ou3Mpe",
        "colab_type": "code",
        "colab": {
          "base_uri": "https://localhost:8080/",
          "height": 51
        },
        "outputId": "640ca2b0-6697-49e5-8f0c-43fff02584e6"
      },
      "source": [
        "base = float(input(\"Digite o salario base:\"))\n",
        "calculo_irpf = [(0.075, 142.80), (0.15, 354.80), (0.225, 636.13), (0.275, 869.36)]\n",
        "irpf = 0\n",
        "\n",
        "if base > 1903.98 and base <= 2826.65:\n",
        "  irpf = base * calculo_irpf[0][0] - calculo_irpf[0][1]\n",
        "elif base > 2826.65 and base <= 3751.05:\n",
        "  irpf = base * calculo_irpf[1][0] - calculo_irpf[1][1]\n",
        "elif base > 3751.05 and base <= 4664.68:\n",
        "  irpf = base * calculo_irpf[2][0] - calculo_irpf[2][1]\n",
        "elif base > 4664.68:\n",
        "  irpf = base * calculo_irpf[3][0] - calculo_irpf[3][1]\n",
        "\n",
        "liquido = base - irpf\n",
        "\n",
        "print(round(irpf, 2), round(liquido, 2))"
      ],
      "execution_count": 30,
      "outputs": [
        {
          "output_type": "stream",
          "text": [
            "Digite o salario base:1541.29\n",
            "0 1541.29\n"
          ],
          "name": "stdout"
        }
      ]
    }
  ]
}