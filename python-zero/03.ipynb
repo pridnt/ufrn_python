{
  "nbformat": 4,
  "nbformat_minor": 0,
  "metadata": {
    "kernelspec": {
      "display_name": "Python 3",
      "language": "python",
      "name": "python3"
    },
    "language_info": {
      "codemirror_mode": {
        "name": "ipython",
        "version": 3
      },
      "file_extension": ".py",
      "mimetype": "text/x-python",
      "name": "python",
      "nbconvert_exporter": "python",
      "pygments_lexer": "ipython3",
      "version": "3.6.8"
    },
    "colab": {
      "name": "03.ipynb",
      "provenance": []
    }
  },
  "cells": [
    {
      "cell_type": "markdown",
      "metadata": {
        "id": "f6620lUAnMdR",
        "colab_type": "text"
      },
      "source": [
        "<small><small><i>\n",
        "Este notebook foi baseado nos notebooks disponíveis em [https://gitlab.erc.monash.edu.au/andrease/Python4Maths.git]\n",
        "</i></small></small>"
      ]
    },
    {
      "cell_type": "markdown",
      "metadata": {
        "id": "ZCy3DqaUnMdX",
        "colab_type": "text"
      },
      "source": [
        "# Repetindo sem perder o controle!\n",
        "\n",
        "Python permite que um trecho de código seja executado múltiplas vezes **estruturas de repetição**. \n",
        "\n",
        "Pra não perder o controle do seu código e cair em um loop infinito, estruturas de repetição se baseiam em **condições de parada**.\n",
        "\n",
        "Neste roteiro, você aprenderá a utilizar estes conceitos da linguagem Python.\n",
        "\n",
        "## Estruturas de repetição\n",
        "\n",
        "Muitas vezes, é necessário executar um mesmo trecho de código várias vezes:\n",
        "* Quando um sistema pede uma senha ao usuário, mas ele tem uma certa quantidade de tentativas possívels.\n",
        "* Quando queremos cadastrar múltiplos contatos em uma agenda.\n",
        "* Quando estamos calculando a média de várias avaliações de uma disciplina.\n",
        "\n",
        "Em todas essas situações, precisamos repetir um trecho de código **sem cair em um loop infinito**. Há três situações comuns:\n",
        "* Sabemos quantas vezes queremos executar um código.\n",
        "* Queremos executar um código enquanto uma condição for verdadeira.\n",
        "* Queremos executar um código até que determinada situação aconteça.\n",
        "\n",
        "Python oferece duas estruturas de repetição, que podem ser usadas nas situações descritas acima:"
      ]
    },
    {
      "cell_type": "markdown",
      "metadata": {
        "id": "3iM9kJYNnMda",
        "colab_type": "text"
      },
      "source": [
        "| Estrutura | Significado |\n",
        "|:----:|:--|\n",
        "| ```for``` | Sabemos quantas vezes queremos executar um código.  <br> Queremos iterar sobre os elementos de uma coleção.|\n",
        "| ```while```  | Queremos executar um código até que determinada situação aconteça. <br> Queremos executar um código enquanto uma condição for verdadeira. |"
      ]
    },
    {
      "cell_type": "markdown",
      "metadata": {
        "id": "v6efE_lonMdj",
        "colab_type": "text"
      },
      "source": [
        "## A estrutura ```for```"
      ]
    },
    {
      "cell_type": "markdown",
      "metadata": {
        "id": "plBZibJdnMdu",
        "colab_type": "text"
      },
      "source": [
        "Quando sabemos quantas vezes queremos executar um código, a estrutura de repetição ```for``` deve ser nossa escolha:\n",
        "\n",
        "```python\n",
        "for iterador in intervalo:\n",
        "    expressao\n",
        "    expressao\n",
        "    ...\n",
        "```\n",
        "\n",
        "As regras básicas para o uso da estrutura **for** em Python são:\n",
        "\n",
        "* O trecho de código delimitado por uma estrutura **for** é chamado bloco e deve ser identado.\n",
        "* O procedimento **range(inicio, fim)** permite definir um intervalo de valores que a variavel **iterador** pode assumir durante a execução do ```for```. \n",
        "\n",
        "O exemplo abaixo mostra como esta estrutura pode ser usada para que um código seja repetido por 5 vezes:"
      ]
    },
    {
      "cell_type": "code",
      "metadata": {
        "scrolled": true,
        "id": "d7N2R1HSnMdw",
        "colab_type": "code",
        "colab": {}
      },
      "source": [
        "for i in range(0,5):\n",
        "    print(\"Execução\", i+1)"
      ],
      "execution_count": 0,
      "outputs": []
    },
    {
      "cell_type": "markdown",
      "metadata": {
        "id": "pF25AiegnMd2",
        "colab_type": "text"
      },
      "source": [
        "Note que a função range define intervalos do tipo **[início, fim)**, isto é, valores maiores ou iguais a **início** e menores que **fim**.\n",
        "\n",
        "Também é possível definir intervalos mais elaborados, criando séries com diferentes crescimentos ou até mesmo decréscimos:"
      ]
    },
    {
      "cell_type": "code",
      "metadata": {
        "scrolled": true,
        "id": "wzI9vV6qnMd3",
        "colab_type": "code",
        "colab": {}
      },
      "source": [
        "# Série crescedo de 2 em 2\n",
        "for i in range(0,5,2):\n",
        "    print(\"Valor de i:\", i)"
      ],
      "execution_count": 0,
      "outputs": []
    },
    {
      "cell_type": "code",
      "metadata": {
        "scrolled": true,
        "id": "H_R5CfkMnMd8",
        "colab_type": "code",
        "colab": {
          "base_uri": "https://localhost:8080/",
          "height": 136
        },
        "outputId": "d96039a2-d524-46d4-dbaa-7eabd93d6b7b"
      },
      "source": [
        "# Série decrescendo de 5 em 5\n",
        "for i in range(15,-20,-5):\n",
        "    print(\"Valor de i:\", i)"
      ],
      "execution_count": 1,
      "outputs": [
        {
          "output_type": "stream",
          "text": [
            "Valor de i: 15\n",
            "Valor de i: 10\n",
            "Valor de i: 5\n",
            "Valor de i: 0\n",
            "Valor de i: -5\n",
            "Valor de i: -10\n",
            "Valor de i: -15\n"
          ],
          "name": "stdout"
        }
      ]
    },
    {
      "cell_type": "markdown",
      "metadata": {
        "id": "COfl_o4UnMeD",
        "colab_type": "text"
      },
      "source": [
        "### Exercícios de fixação"
      ]
    },
    {
      "cell_type": "markdown",
      "metadata": {
        "id": "CYfwIULmnMeF",
        "colab_type": "text"
      },
      "source": [
        "1 - Peça ao usuário suas notas das 3 unidades de uma disciplina e calcule sua média."
      ]
    },
    {
      "cell_type": "code",
      "metadata": {
        "id": "mbPJvB4PnMeG",
        "colab_type": "code",
        "colab": {
          "base_uri": "https://localhost:8080/",
          "height": 85
        },
        "outputId": "e38752ce-e921-4b0c-9a20-41b1502e3b7b"
      },
      "source": [
        "nota = 0\n",
        "\n",
        "for i in range(0,3):\n",
        "  nota += float(input(\"Digite sua nota:\"))\n",
        "\n",
        "media = nota / 3\n",
        "print(round(media, 2))"
      ],
      "execution_count": 4,
      "outputs": [
        {
          "output_type": "stream",
          "text": [
            "Digite sua nota:7\n",
            "Digite sua nota:9\n",
            "Digite sua nota:8\n",
            "8.0\n"
          ],
          "name": "stdout"
        }
      ]
    },
    {
      "cell_type": "markdown",
      "metadata": {
        "id": "TLxqeRYunMeK",
        "colab_type": "text"
      },
      "source": [
        "2 - Solicite ao usuário um inteiro positivo *n* e imprima a soma dos números pares entre 0 e *n*."
      ]
    },
    {
      "cell_type": "code",
      "metadata": {
        "id": "r_OQG3O7nMeN",
        "colab_type": "code",
        "colab": {
          "base_uri": "https://localhost:8080/",
          "height": 51
        },
        "outputId": "538ee1c9-1839-4c1e-accf-ed0e6ac59544"
      },
      "source": [
        "from functools import reduce\n",
        "\n",
        "intervalo = int(input(\"Digite o valor máximo do intervalo:\"))\n",
        "ls = [x for x in range(0,intervalo+1)]\n",
        "print(reduce(lambda x,y:x+y, list(filter(lambda x:x%2 == 0, ls))))"
      ],
      "execution_count": 8,
      "outputs": [
        {
          "output_type": "stream",
          "text": [
            "Digite o valor máximo do intervalo:4\n",
            "6\n"
          ],
          "name": "stdout"
        }
      ]
    },
    {
      "cell_type": "markdown",
      "metadata": {
        "id": "sdberyWLnMeV",
        "colab_type": "text"
      },
      "source": [
        "3 - Analise os números entre -25 e 50. Se o número for múltiplo de 2, imprima BUS. Se for múltiplo de 3, imprima FEES. Caso seja múltiplo de 2 e de 3 ao mesmo tempo, imprima BUS e FEES."
      ]
    },
    {
      "cell_type": "code",
      "metadata": {
        "id": "_a3lMkNynMeW",
        "colab_type": "code",
        "colab": {
          "base_uri": "https://localhost:8080/",
          "height": 1000
        },
        "outputId": "bb059423-01d2-48c8-a95c-10267497b9c7"
      },
      "source": [
        "for i in range(-25, 51):\n",
        "  result = \"\"\n",
        "\n",
        "  if i % 2 == 0:\n",
        "    result = \"BUS\"\n",
        "  if i % 3 == 0:\n",
        "    result = result + \"FEES\"\n",
        "    \n",
        "  print(i, result)"
      ],
      "execution_count": 10,
      "outputs": [
        {
          "output_type": "stream",
          "text": [
            "-25 \n",
            "-24 BUSFEES\n",
            "-23 \n",
            "-22 BUS\n",
            "-21 FEES\n",
            "-20 BUS\n",
            "-19 \n",
            "-18 BUSFEES\n",
            "-17 \n",
            "-16 BUS\n",
            "-15 FEES\n",
            "-14 BUS\n",
            "-13 \n",
            "-12 BUSFEES\n",
            "-11 \n",
            "-10 BUS\n",
            "-9 FEES\n",
            "-8 BUS\n",
            "-7 \n",
            "-6 BUSFEES\n",
            "-5 \n",
            "-4 BUS\n",
            "-3 FEES\n",
            "-2 BUS\n",
            "-1 \n",
            "0 BUSFEES\n",
            "1 \n",
            "2 BUS\n",
            "3 FEES\n",
            "4 BUS\n",
            "5 \n",
            "6 BUSFEES\n",
            "7 \n",
            "8 BUS\n",
            "9 FEES\n",
            "10 BUS\n",
            "11 \n",
            "12 BUSFEES\n",
            "13 \n",
            "14 BUS\n",
            "15 FEES\n",
            "16 BUS\n",
            "17 \n",
            "18 BUSFEES\n",
            "19 \n",
            "20 BUS\n",
            "21 FEES\n",
            "22 BUS\n",
            "23 \n",
            "24 BUSFEES\n",
            "25 \n",
            "26 BUS\n",
            "27 FEES\n",
            "28 BUS\n",
            "29 \n",
            "30 BUSFEES\n",
            "31 \n",
            "32 BUS\n",
            "33 FEES\n",
            "34 BUS\n",
            "35 \n",
            "36 BUSFEES\n",
            "37 \n",
            "38 BUS\n",
            "39 FEES\n",
            "40 BUS\n",
            "41 \n",
            "42 BUSFEES\n",
            "43 \n",
            "44 BUS\n",
            "45 FEES\n",
            "46 BUS\n",
            "47 \n",
            "48 BUSFEES\n",
            "49 \n",
            "50 BUS\n"
          ],
          "name": "stdout"
        }
      ]
    },
    {
      "cell_type": "markdown",
      "metadata": {
        "id": "94iTy0lSnMej",
        "colab_type": "text"
      },
      "source": [
        "4 - Solicite ao usuário um inteiro positivo *n* e calcule o fatorial de *n*."
      ]
    },
    {
      "cell_type": "code",
      "metadata": {
        "id": "KctF7kw-nMek",
        "colab_type": "code",
        "colab": {
          "base_uri": "https://localhost:8080/",
          "height": 215
        },
        "outputId": "8b953cad-f7c7-4b3e-92c2-73d0d1e102cf"
      },
      "source": [
        "from functools import reduce\n",
        "\n",
        "n = int(input(\"Digite um numero:\"))\n",
        "ls = [x for x in range(1,n+1)]\n",
        "print(reduce(lambda x,y:x*y,ls))"
      ],
      "execution_count": 17,
      "outputs": [
        {
          "output_type": "stream",
          "text": [
            "Digite um numero:0\n"
          ],
          "name": "stdout"
        },
        {
          "output_type": "error",
          "ename": "TypeError",
          "evalue": "ignored",
          "traceback": [
            "\u001b[0;31m---------------------------------------------------------------------------\u001b[0m",
            "\u001b[0;31mTypeError\u001b[0m                                 Traceback (most recent call last)",
            "\u001b[0;32m<ipython-input-17-ffea39bb8c1b>\u001b[0m in \u001b[0;36m<module>\u001b[0;34m()\u001b[0m\n\u001b[1;32m      3\u001b[0m \u001b[0mn\u001b[0m \u001b[0;34m=\u001b[0m \u001b[0mint\u001b[0m\u001b[0;34m(\u001b[0m\u001b[0minput\u001b[0m\u001b[0;34m(\u001b[0m\u001b[0;34m\"Digite um numero:\"\u001b[0m\u001b[0;34m)\u001b[0m\u001b[0;34m)\u001b[0m\u001b[0;34m\u001b[0m\u001b[0;34m\u001b[0m\u001b[0m\n\u001b[1;32m      4\u001b[0m \u001b[0mls\u001b[0m \u001b[0;34m=\u001b[0m \u001b[0;34m[\u001b[0m\u001b[0mx\u001b[0m \u001b[0;32mfor\u001b[0m \u001b[0mx\u001b[0m \u001b[0;32min\u001b[0m \u001b[0mrange\u001b[0m\u001b[0;34m(\u001b[0m\u001b[0;36m1\u001b[0m\u001b[0;34m,\u001b[0m\u001b[0mn\u001b[0m\u001b[0;34m+\u001b[0m\u001b[0;36m1\u001b[0m\u001b[0;34m)\u001b[0m\u001b[0;34m]\u001b[0m\u001b[0;34m\u001b[0m\u001b[0;34m\u001b[0m\u001b[0m\n\u001b[0;32m----> 5\u001b[0;31m \u001b[0mprint\u001b[0m\u001b[0;34m(\u001b[0m\u001b[0mreduce\u001b[0m\u001b[0;34m(\u001b[0m\u001b[0;32mlambda\u001b[0m \u001b[0mx\u001b[0m\u001b[0;34m,\u001b[0m\u001b[0my\u001b[0m\u001b[0;34m:\u001b[0m\u001b[0mx\u001b[0m\u001b[0;34m*\u001b[0m\u001b[0my\u001b[0m\u001b[0;34m,\u001b[0m\u001b[0mls\u001b[0m\u001b[0;34m)\u001b[0m\u001b[0;34m)\u001b[0m\u001b[0;34m\u001b[0m\u001b[0;34m\u001b[0m\u001b[0m\n\u001b[0m",
            "\u001b[0;31mTypeError\u001b[0m: reduce() of empty sequence with no initial value"
          ]
        }
      ]
    },
    {
      "cell_type": "markdown",
      "metadata": {
        "id": "70xXkh6gnMel",
        "colab_type": "text"
      },
      "source": [
        "## A estrutura ```while```"
      ]
    },
    {
      "cell_type": "markdown",
      "metadata": {
        "id": "1bR7eXbTnMem",
        "colab_type": "text"
      },
      "source": [
        "Quando queremos executar um código enquanto uma condição for verdadeira, a estrutura de repetição ```while``` deve ser nossa escolha:\n",
        "\n",
        "```python\n",
        "while condicao:\n",
        "    expressao\n",
        "    expressao\n",
        "    ...\n",
        "```\n",
        "\n",
        "As regras básicas para o uso da estrutura **while** em Python são:\n",
        "\n",
        "* O trecho de código delimitado por uma estrutura **while** é chamado bloco e deve ser identado.\n",
        "* O bloco delimitado por uma estrutura **while** será executado enquanto a expressão lógica (```condicao```) for verdadeira (```True```).\n",
        "\n",
        "Um exemplo de uso desta estrutura é o caso em que não se sabe quantas vezes será necessário executar um trecho de código:"
      ]
    },
    {
      "cell_type": "code",
      "metadata": {
        "scrolled": true,
        "id": "k2_smjUFnMem",
        "colab_type": "code",
        "colab": {}
      },
      "source": [
        "from random import randint\n",
        "\n",
        "n_multiplos = 0\n",
        "while n_multiplos < 3:\n",
        "    numero = randint(0,30)\n",
        "    if numero % 3 == 0:\n",
        "        n_multiplos += 1\n",
        "        print(\"Múltiplo #\", n_multiplos, \"-\", numero)"
      ],
      "execution_count": 0,
      "outputs": []
    },
    {
      "cell_type": "markdown",
      "metadata": {
        "id": "hk0fGD47nMeo",
        "colab_type": "text"
      },
      "source": [
        "Também é possível utilizar a estrutura de repetição ```while``` quando queremos executar um código até que uma determinada situação ocorra:\n",
        "\n",
        "```python\n",
        "while True:\n",
        "    expressao\n",
        "    expressao\n",
        "    ...\n",
        "    if condicao:\n",
        "        break\n",
        "```\n",
        "\n",
        "As regras básicas para o uso da estrutura **while** neste contexto são:\n",
        "\n",
        "* O bloco será executado uma ou mais vezes, até que a condição se torne verdadeira.\n",
        "* O comando **```break```** provoca a interrupção da repetição.\n",
        "\n",
        "O exemplo abaixo mostra como esta estrutura pode ser usada para solicitar uma senha ao usuário até que ele acerte a senha:"
      ]
    },
    {
      "cell_type": "code",
      "metadata": {
        "scrolled": false,
        "id": "tnZd_ZCOnMep",
        "colab_type": "code",
        "colab": {}
      },
      "source": [
        "senha_correta = \"swordfish\"\n",
        "while True:\n",
        "    senha = input(\"Informe sua senha: \")\n",
        "    if senha == senha_correta:\n",
        "        break\n",
        "    else:\n",
        "        print(\"Senha incorreta!\")"
      ],
      "execution_count": 0,
      "outputs": []
    },
    {
      "cell_type": "markdown",
      "metadata": {
        "id": "zqafjeEFnMer",
        "colab_type": "text"
      },
      "source": [
        "### Exercícios de fixação"
      ]
    },
    {
      "cell_type": "markdown",
      "metadata": {
        "id": "uGWW2DcQnMes",
        "colab_type": "text"
      },
      "source": [
        "1 - Sorteie um número entre 0 e 10 e peça ao usuário para tentar adivinhá-lo. Quando o usuário acertar o número, informe quantas tentativas foram necessárias."
      ]
    },
    {
      "cell_type": "code",
      "metadata": {
        "id": "h6Q06Q1InMeu",
        "colab_type": "code",
        "colab": {
          "base_uri": "https://localhost:8080/",
          "height": 68
        },
        "outputId": "63a29c14-7e71-4bf5-e6b3-3a1de4cae6d7"
      },
      "source": [
        "from random import randint\n",
        "\n",
        "numero = randint(0,10)\n",
        "tentativas = 0\n",
        "\n",
        "while chute != numero:\n",
        "    chute = int(input(\"Digite um numero entre 0 e 10:\"))\n",
        "    tentativas +=1\n",
        "    \n",
        "    if chute == numero:\n",
        "        break\n",
        "\n",
        "print(tentativas)"
      ],
      "execution_count": 32,
      "outputs": [
        {
          "output_type": "stream",
          "text": [
            "Digite um numero entre 0 e 10:4\n",
            "Digite um numero entre 0 e 10:6\n",
            "2\n"
          ],
          "name": "stdout"
        }
      ]
    },
    {
      "cell_type": "markdown",
      "metadata": {
        "id": "SP3zLC8JnMew",
        "colab_type": "text"
      },
      "source": [
        "### Pulando parte do código\n",
        "\n",
        "É possível evitar que parte do código seja executada durante uma repetição utilizando o comando ```continue```.\n"
      ]
    },
    {
      "cell_type": "code",
      "metadata": {
        "scrolled": true,
        "id": "JVCmujmDnMew",
        "colab_type": "code",
        "colab": {
          "base_uri": "https://localhost:8080/",
          "height": 170
        },
        "outputId": "34b18153-7d22-4465-c8e1-67b241867ab3"
      },
      "source": [
        "soma = 0\n",
        "for i in range(10):\n",
        "    if i == 3:\n",
        "        continue\n",
        "    print(i)"
      ],
      "execution_count": 20,
      "outputs": [
        {
          "output_type": "stream",
          "text": [
            "0\n",
            "1\n",
            "2\n",
            "4\n",
            "5\n",
            "6\n",
            "7\n",
            "8\n",
            "9\n"
          ],
          "name": "stdout"
        }
      ]
    },
    {
      "cell_type": "markdown",
      "metadata": {
        "id": "UTo4i7FcnMez",
        "colab_type": "text"
      },
      "source": [
        "### Exercícios de fixação"
      ]
    },
    {
      "cell_type": "markdown",
      "metadata": {
        "id": "8lId6DajnMez",
        "colab_type": "text"
      },
      "source": [
        "1 - Imprima os números partes entre 0 e 50, pulando os números múltiplos de 4. Use o comando ```continue```."
      ]
    },
    {
      "cell_type": "code",
      "metadata": {
        "id": "UFWVgBn-nMe0",
        "colab_type": "code",
        "colab": {
          "base_uri": "https://localhost:8080/",
          "height": 238
        },
        "outputId": "c1e57dfe-0ee5-4514-91f9-603f8fbc0f5a"
      },
      "source": [
        "for n in range(51):\n",
        "  if n%2 != 0 or n%4 == 0:\n",
        "      continue\n",
        "  \n",
        "  print(n)"
      ],
      "execution_count": 26,
      "outputs": [
        {
          "output_type": "stream",
          "text": [
            "2\n",
            "6\n",
            "10\n",
            "14\n",
            "18\n",
            "22\n",
            "26\n",
            "30\n",
            "34\n",
            "38\n",
            "42\n",
            "46\n",
            "50\n"
          ],
          "name": "stdout"
        }
      ]
    },
    {
      "cell_type": "markdown",
      "metadata": {
        "id": "6I-ebKxrnMe2",
        "colab_type": "text"
      },
      "source": [
        "## Combinando múltiplas estruturas de repetição"
      ]
    },
    {
      "cell_type": "markdown",
      "metadata": {
        "id": "O_4PQuvpnMe2",
        "colab_type": "text"
      },
      "source": [
        "Assim como vimos para estruturas de decisão, também podemos combinar estruturas de repetição em múltiplos níveis. \n",
        "\n",
        "As regras básicas para **aninhar estruturas de repetição** em Python são:\n",
        "* Não há limite com relação a quantas estruturas e em quantos níveis.\n",
        "* Blocos de níveis mais profundos devem apresentar maior grau de identação.\n",
        "* Os efeitos dos comandos ```break``` e ```continue``` se limitam ao nível atual.\n",
        "\n",
        "O exemplo abaixo mostra como imprimir uma matriz identidade. Note que a função ```print``` pode ser usada para imprimir várias vezes em uma mesma linha, utilizando pra isso a opção ```end```."
      ]
    },
    {
      "cell_type": "code",
      "metadata": {
        "id": "YawTS2PYnMe2",
        "colab_type": "code",
        "colab": {}
      },
      "source": [
        "for i in range(3):\n",
        "    for j in range(3):\n",
        "        if i == j:\n",
        "            print(\" 1 \", end='')\n",
        "        else:\n",
        "            print(\" 0 \", end='')\n",
        "    print()"
      ],
      "execution_count": 0,
      "outputs": []
    },
    {
      "cell_type": "markdown",
      "metadata": {
        "collapsed": true,
        "id": "h6gYgokMnMe5",
        "colab_type": "text"
      },
      "source": [
        "## Exercícios do URI"
      ]
    },
    {
      "cell_type": "markdown",
      "metadata": {
        "collapsed": true,
        "id": "9YOrsbWqnMe6",
        "colab_type": "text"
      },
      "source": [
        "[1080](https://www.urionlinejudge.com.br/judge/pt/problems/view/1080) - Calcular estatísticas é uma importante tarefa dos sistema de computação que trabalham com análise de dados. Em um roteiro anterior, você implementou uma função para uso em histogramas, que informava a qual intervalo um elemento pertencia.\n",
        "\n",
        "Neste exercício, você vai voltar pro mundo real e de fato preparar um histograma dos dados (colher de chá: não precisa gerar o gráfico no final).\n",
        "\n",
        "Escreva um código Python que receba um inteiro informando quantos números no intervalo \\[0,100\\) serão informados a seguir. Considerando 5 subintervalos de igual tamanho, seu programa deverá calcular a frequência de elementos presentes em cada subintervalo.\n",
        "\n",
        "Por fim, seu programa deverá informar os elementos máximo e mínimo encontrados nos dados, e suas posições na sequência dos dados de entrada."
      ]
    },
    {
      "cell_type": "markdown",
      "metadata": {
        "id": "8Wrp44YfnMe7",
        "colab_type": "text"
      },
      "source": [
        "|.| Entrada | Saída |\n",
        "|-|:----:|---|\n",
        "| *Exemplo 1* | 5<br/>100<br/>40<br/>32<br/>87<br/>90 | \\[0,20\\) - 1 <br/> \\[20,40\\) - 1 <br/> \\[40,60\\) - 1 <br/> \\[60,80\\) - 0 <br/> \\[80,100\\) - 3  <br/> Máximo: 100 (0) <br/> Mínimo: 32 (2) | \n",
        "| *Exemplo 2* | 3<br/>12<br/>29<br/>45 | \\[0,20\\) - 1 <br/> \\[20,40\\) - 1 <br/> \\[40,60\\) - 1 <br/> \\[60,80\\) - 0 <br/> \\[80,100\\) - 0  <br/> Máximo: 45 (2) <br/> Mínimo: 12 (0) | \n",
        "| *Exemplo 3* | 7<br/>13<br/>88<br/>45<br/>63<br/>94<br/>27<br/>5 | \\[0,20\\) - 1 <br/> \\[20,40\\) - 1 <br/> \\[40,60\\) - 1 <br/> \\[60,80\\) - 1 <br/> \\[80,100\\) - 2  <br/> Máximo: 94 (4) <br/> Mínimo: 5 (6) | \n"
      ]
    },
    {
      "cell_type": "code",
      "metadata": {
        "id": "w65kRTgUvvSS",
        "colab_type": "code",
        "colab": {
          "base_uri": "https://localhost:8080/",
          "height": 255
        },
        "outputId": "78399236-7da6-46f8-83a7-b863de19f9a2"
      },
      "source": [
        "maximo = [-1, -1]\n",
        "minino = [100, -1]\n",
        "intervalos = {\"[0, 20)\":0, \"[20, 40)\":0, \"[40, 60)\":0, \"[60, 80)\":0, \"[80, 100)\":0}\n",
        "\n",
        "quantidade = int(input(\"Digite a quantidade de valores:\"))\n",
        "\n",
        "for i in range (0, quantidade):\n",
        "  numero = int(input(\"Digite um valor:\"))\n",
        "\n",
        "  if numero >= 0 and numero < 20:\n",
        "    intervalos[\"[0, 20)\"] = intervalos[\"[0, 20)\"] + 1\n",
        "  elif numero >= 20 and numero < 40:\n",
        "    intervalos[\"[20, 40)\"] = intervalos[\"[20, 40)\"] + 1\n",
        "  elif numero >= 40 and numero < 60:\n",
        "    intervalos[\"[40, 60)\"] = intervalos[\"[40, 60)\"] + 1\n",
        "  elif numero >= 60 and numero < 80:\n",
        "    intervalos[\"[60, 80)\"] = intervalos[\"[60, 80)\"] + 1\n",
        "  elif numero >= 80 and numero < 100:\n",
        "    intervalos[\"[80, 100)\"] = intervalos[\"[80, 100)\"] + 1\n",
        "\n",
        "  if numero > maximo[0]:\n",
        "    maximo = [numero, i+1]\n",
        "  if numero < minino[0]:\n",
        "    minino = [numero, i+1]\n",
        "\n",
        "for key, value in intervalos.items():\n",
        "  print(key, '-', value)\n",
        "\n",
        "print(\"Máximo: \" + str(maximo[0]) + \" (\" + str(maximo[1]) + \")\")\n",
        "print(\"Mínimo: \" + str(minino[0]) + \" (\" + str(minino[1]) + \")\")"
      ],
      "execution_count": 9,
      "outputs": [
        {
          "output_type": "stream",
          "text": [
            "Digite a quantidade de valores:6\n",
            "Digite um valor:56\n",
            "Digite um valor:87\n",
            "Digite um valor:12\n",
            "Digite um valor:34\n",
            "Digite um valor:7\n",
            "Digite um valor:99\n",
            "[0, 20) - 2\n",
            "[20, 40) - 1\n",
            "[40, 60) - 1\n",
            "[60, 80) - 0\n",
            "[80, 100) - 2\n",
            "Máximo: 99 (6)\n",
            "Mínimo: 7 (5)\n"
          ],
          "name": "stdout"
        }
      ]
    },
    {
      "cell_type": "markdown",
      "metadata": {
        "collapsed": true,
        "id": "V7_KWTX-nMe8",
        "colab_type": "text"
      },
      "source": [
        "[1164](https://www.urionlinejudge.com.br/judge/pt/problems/view/1164) - Um número **perfeito** é um número igual à soma dos seus divisores (exceto ele mesmo).\n",
        "\n",
        "O número 28 é um exemplo de número perfeito: 28 = 1 + 2 + 4 + 7 + 14.\n",
        "\n",
        "[1165](https://www.urionlinejudge.com.br/judge/pt/problems/view/1165) - Um número **primo** é um número que só pode ser dividido por 1 e por ele mesmo. \n",
        "\n",
        "O número 17, por exemplo, só pode ser dividido por 1 e por 17.\n",
        "\n",
        "Escreva um código Python que receba um inteiro N e imprima os números do intervalo [1,N] que são primos ou perfeitos."
      ]
    },
    {
      "cell_type": "markdown",
      "metadata": {
        "collapsed": true,
        "id": "ktwLeZQ0nMe9",
        "colab_type": "text"
      },
      "source": [
        "|.| Entrada | Saída |\n",
        "|-|:-:|:-|\n",
        "| *Exemplo 1* | 10 | 1 2 3 5 6 7 10 | \n",
        "| *Exemplo 2* | 15 | 1 2 3 5 6 7 10 11 13 |\n",
        "| *Exemplo 3* | 20 | 1 2 3 5 6 7 10 11 13 17 19 |"
      ]
    },
    {
      "cell_type": "code",
      "metadata": {
        "id": "ffz8CmChnMe9",
        "colab_type": "code",
        "colab": {
          "base_uri": "https://localhost:8080/",
          "height": 51
        },
        "outputId": "5ee390ca-5a33-459c-9ce2-d4e593703261"
      },
      "source": [
        "intervalo = int(input(\"Digite o tamanho do intervalo:\"))\n",
        "resultado = []\n",
        "divisores = []\n",
        "\n",
        "for numero in range (1, intervalo + 1):\n",
        "  divisores = []\n",
        "  for divisor in range (1, numero + 1):\n",
        "    if numero % divisor == 0:\n",
        "      divisores.append(divisor)\n",
        "\n",
        "  # se so houver um divisor (1), o numero eh primo\n",
        "  # # se a soma dos divisores for igual ao numero, ele sera um numero perfeito\n",
        "  if numero == 1 or len(divisores) == 2 or sum(divisores) - numero == numero:\n",
        "    resultado.append(numero)\n",
        "\n",
        "print(resultado)"
      ],
      "execution_count": 24,
      "outputs": [
        {
          "output_type": "stream",
          "text": [
            "Digite o tamanho do intervalo:28\n",
            "[1, 2, 3, 5, 6, 7, 11, 13, 17, 19, 23, 28]\n"
          ],
          "name": "stdout"
        }
      ]
    },
    {
      "cell_type": "markdown",
      "metadata": {
        "collapsed": true,
        "id": "ZVVZ27VunMe_",
        "colab_type": "text"
      },
      "source": [
        "[1789](https://www.urionlinejudge.com.br/judge/pt/problems/view/1789) - Jogos de corrida utilizam simulações baseadas nas regras da física para trazer realismo à experiência do usuário.\n",
        "\n",
        "Neste exercício, você deve simular uma das regras mais simples da mecânica clássica, que mostra que a distância percorrida por um objeto é proporcional à sua velocidade.\n",
        "\n",
        "Neste jogo serão 3 corredores, cada um com uma velocidade dada por um número real sorteado no intervalo [0,100) m/s.\n",
        "\n",
        "Considere que todos os competidores partem do mesmo lugar e apresente a posição de cada corredor atualizada segundo a segundo.\n",
        "\n",
        "Considere ainda que a linha de chegada está a 482m de distância do ponto de partida e encerre a corrida quando o vencedor cruzar a linha, identificando o vencedor.\n",
        "\n",
        "** Dica --** Para gerar um número real aleatório no intervalo [0,100), utilize a função ```uniform(0,100)```."
      ]
    },
    {
      "cell_type": "markdown",
      "metadata": {
        "collapsed": true,
        "id": "Xqj7G1kVnMfA",
        "colab_type": "text"
      },
      "source": [
        "|.| Velocidades | Saída |\n",
        "|-|:-:|:-|\n",
        "| *Exemplo 1* | 15.38<br/>55.49<br/>48.65  | 15.38 55.49 48.65 <br/> 30.76 110.98 97.30 <br/> 46.14 166.47 145.95 <br/> 61.52 221.96 194.60 <br/> 76.90 277.45 243.25 <br/> 92.28 332.94 291.90 <br/> 107.66 388.43 340.55 <br/> 123.04 443.92 389.20 <br/> 138.42 499.41 437.85 <br/> P2 | \n",
        "| *Exemplo 2* | 42.27<br/>95.26<br/>72.25 | 42.27 95.26 72.25 <br/> 84.54 190.52 144.50 <br/> 126.81 285.78 216.75 <br/> 169.08 381.04 289.00 <br/> 211.35 476.30 361.25 <br/> 253.62 571.56 433.50 <br/> P2 |\n",
        "| *Exemplo 3* | 98.76<br/>93.21<br/>96.65 | 98.76 93.21 96.65 <br/> 197.52 186.42 193.30 <br/> 296.28 279.63 289.95 <br/> 395.04 372.84 386.60 <br/> 493.80 466.05 483.25 <br/> P1 |"
      ]
    },
    {
      "cell_type": "code",
      "metadata": {
        "id": "Fd6g1e73nMfB",
        "colab_type": "code",
        "colab": {
          "base_uri": "https://localhost:8080/",
          "height": 136
        },
        "outputId": "8549966b-2efc-4357-eec7-b69afe1d3440"
      },
      "source": [
        "from random import uniform\n",
        "\n",
        "v1= round(uniform(0,100), 2)\n",
        "v2 = round(uniform(0,100), 2)\n",
        "v3 = round(uniform(0,100), 2)\n",
        "p1, p2, p3 = 0, 0, 0\n",
        "\n",
        "chegada = 482\n",
        "distancia = 0\n",
        "\n",
        "while max(p1,p2,p3) < chegada:\n",
        "  p1 = p1 + v1 \n",
        "  p2 = p2 + v2\n",
        "  p3 = p3 + v3\n",
        "\n",
        "  print(round(p1, 2),round(p2, 2),round(p3, 2))\n",
        "\n",
        "if max(p1,p2,p3) == p1:\n",
        "  print(\"P1\")\n",
        "elif max(p1,p2,p3) == p2:\n",
        "  print(\"P2\")\n",
        "elif max(p1,p2,p3) == p3:\n",
        "  print(\"P3\")"
      ],
      "execution_count": 35,
      "outputs": [
        {
          "output_type": "stream",
          "text": [
            "85.3 28.29 54.39\n",
            "170.6 56.58 108.78\n",
            "255.9 84.87 163.17\n",
            "341.2 113.16 217.56\n",
            "426.5 141.45 271.95\n",
            "511.8 169.74 326.34\n",
            "P1\n"
          ],
          "name": "stdout"
        }
      ]
    },
    {
      "cell_type": "markdown",
      "metadata": {
        "collapsed": true,
        "id": "gtYWTWSXnMfE",
        "colab_type": "text"
      },
      "source": [
        "[1828](https://www.urionlinejudge.com.br/judge/pt/problems/view/1828) - Pedra, paper e tesoura, ou じゃんけんぽん (jankenpon), é um jogo simples que envolve apenas quatro regras:\n",
        "\n",
        "- Dois jogadores disputam entre si, podendo escolher entre 3 opções de ação: pedra, papel ou tesoura.\n",
        "- A pedra quebra a tesoura.\n",
        "- A tesoura corta o papel.\n",
        "- O papel embrulha a pedra.\n",
        "\n",
        "Também é possível que não haja um vencedor, quando os dois jogadores escolhem a mesma ação.\n",
        "\n",
        "Escreva um código Python que receba um inteiro informando número de rodadas de uma partida e simule dois jogadores competindo entre si. Você deve imprimir as ações e o vencedor de cada rodada, bem como o vencedor da partida."
      ]
    },
    {
      "cell_type": "markdown",
      "metadata": {
        "id": "RJx4m5o8nMfF",
        "colab_type": "text"
      },
      "source": [
        "|.| Entrada | Saída |\n",
        "|-|:-:|:-|\n",
        "| *Exemplo 1* | 3  | Jogador 2 <br/> Empate <br/> Jogador 2 <br/> Placar final: 0 x 2 <br/> Partida vencida pelo Jogador 2! | \n",
        "| *Exemplo 2* | 5 | Jogador 1 <br/> Jogador 1 <br/> Empate <br/> Empate <br/> Jogador 1 <br/> Placar final: 3 x 0 <br/> Partida vencida pelo Jogador 1! |\n",
        "| *Exemplo 3* | 4 | Empate <br/> Jogador 2 <br/> Empate <br/> Empate <br/> Placar final: 0 x 1 <br/> Partida vencida pelo Jogador 2! |"
      ]
    },
    {
      "cell_type": "code",
      "metadata": {
        "id": "HFZ5RohTnMfG",
        "colab_type": "code",
        "colab": {
          "base_uri": "https://localhost:8080/",
          "height": 136
        },
        "outputId": "5e512630-dc83-4570-fbb7-180cc3b55619"
      },
      "source": [
        "from random import uniform\n",
        "\n",
        "situacoes = [[1, \"pedra pedra\", \"Empate\"], [2, \"pedra papel\", \"Jogador 2\"], [3, \"pedra tesoura\", \"Jogador 1\"], \n",
        "             [4, \"tesoura pedra\", \"Jogador 2\"], [5, \"tesoura papel\", \"Jogador 1\"], [6, \"tesoura tesoura\", \"Empate\"], \n",
        "             [7, \"papel pedra\", \"Jogador 1\"], [8, \"papel papel\", \"Empate\"], [9, \"papel tesoura\", \"Jogador 2\"]]\n",
        "\n",
        "rodadas = int(input(\"Digite a quantidade de rodadas:\"))\n",
        "jogadores = [0,0]\n",
        "\n",
        "for i in range(0, rodadas):\n",
        "  resultado = int(uniform(0,10))\n",
        "\n",
        "  if resultado in (1, 6, 8):\n",
        "    jogadores[0] = jogadores[0] + 1\n",
        "    jogadores[1] = jogadores[1] + 1\n",
        "    print(\"Empate\")\n",
        "  elif resultado in (3, 5, 7):\n",
        "    jogadores[0] = jogadores[0] + 1\n",
        "    print(\"Jogador 1\")\n",
        "  elif resultado in (2, 4, 9):\n",
        "    jogadores[1] = jogadores[1] + 1\n",
        "    print(\"Jogador 2\")\n",
        "\n",
        "print(\"Placar final: \", jogadores[0], 'x', jogadores[1])\n",
        "\n",
        "if jogadores[0] > jogadores[1]:\n",
        "  print(\"Partida vencida pelo Jogador 1!\")\n",
        "elif jogadores[1] > jogadores[0]:\n",
        "  print(\"Partida vencida pelo Jogador 2!\")\n",
        "elif jogadores[0] == jogadores[1]:\n",
        "  print(\"Partida empatada!\")"
      ],
      "execution_count": 40,
      "outputs": [
        {
          "output_type": "stream",
          "text": [
            "Digite a quantidade de rodadas:4\n",
            "Jogador 1\n",
            "Jogador 2\n",
            "Empate\n",
            "Jogador 1\n",
            "Placar final:  3 x 2\n",
            "Partida vencida pelo Jogador 1!\n"
          ],
          "name": "stdout"
        }
      ]
    },
    {
      "cell_type": "markdown",
      "metadata": {
        "id": "F6kMqrE2nMfI",
        "colab_type": "text"
      },
      "source": [
        "Agora que você já sabe até como criar um jogo de jonkenpon, implemente uma versão em que você pode jogar contra o computador e mostre que você pode derrotá-lo :D"
      ]
    },
    {
      "cell_type": "code",
      "metadata": {
        "id": "weTm2QsBnMfI",
        "colab_type": "code",
        "colab": {}
      },
      "source": [
        "from random import uniform\n",
        "\n",
        "situacoes = {\"pedra pedra\":\"Empate\", \"pedra papel\":\"Humano\", \"pedra tesoura\":\"Computador\", \n",
        "             \"tesoura pedra\":\"Humano\", \"tesoura papel\":\"Computador\", \"tesoura tesoura\":\"Empate\", \n",
        "             \"papel pedra\":\"Computador\", \"papel papel\":\"Empate\", \"papel tesoura\":\"Humano\"}\n",
        "\n",
        "jogadas = [\"pedra\", \"papel\", \"tesoura\"]\n",
        "\n",
        "rodadas = int(input(\"Digite a quantidade de rodadas:\"))\n",
        "jogadores = [0,0]\n",
        "\n",
        "for i in range(0, rodadas):\n",
        "  print(2*\"-----\", \"RODADA\", i+1, 2*\"-----\")\n",
        "  jogada_humano = input(\"Humano:\")\n",
        "  jogada_computador = jogadas[int(uniform(0,3))]\n",
        "  jogada = jogada_computador + \" \" + jogada_humano\n",
        "  jogada_print =  \"Jogada: (PC) \" + jogada_computador + \" x \" + jogada_humano + \" (HUM)\"\n",
        "\n",
        "  print(jogada_print)\n",
        "  resultado = situacoes.get(jogada)\n",
        "\n",
        "  if resultado == \"Empate\":\n",
        "    jogadores[0] = jogadores[0] + 1\n",
        "    jogadores[1] = jogadores[1] + 1\n",
        "  if resultado == \"Computador\":\n",
        "    jogadores[0] = jogadores[0] + 1\n",
        "  if resultado == \"Humano\":\n",
        "    jogadores[1] = jogadores[1] + 1\n",
        "    \n",
        "  print(\"Resultado:\", resultado)\n",
        "\n",
        "print(2*\"-----\", \"PLACAR FINAL\", 2*\"-----\")\n",
        "print(\"(PC)\", jogadores[0], 'x', jogadores[1], \"(HUM)\")\n",
        "\n",
        "if jogadores[0] > jogadores[1]:\n",
        "  print(\"Partida vencida pelo computador!\")\n",
        "elif jogadores[1] > jogadores[0]:\n",
        "  print(\"Partida vencida pelo humano!\")\n",
        "elif jogadores[0] == jogadores[1]:\n",
        "  print(\"Partida empatada!\")"
      ],
      "execution_count": 0,
      "outputs": []
    },
    {
      "cell_type": "markdown",
      "metadata": {
        "id": "eXwa6ZZ9nMfK",
        "colab_type": "text"
      },
      "source": [
        "[Blackjack](https://pt.wikipedia.org/wiki/Blackjack) - Vinte-e-um (21) é um dos mais icônicos jogos de cartas, onde um jogador real compete contra um jogador imaginário (a banca) para ver quem consegue o jogo de maior valor sem estourar o limite de 21 pontos.\n",
        "\n",
        "Por simplicidade, considere apenas as seguintes regras:\n",
        "- Cada jogador pode pedir uma carta por rodada ou dizer que quer parar de pedir.\n",
        "- O jogador que acumular mais de 21 pontos perde a partida.\n",
        "- Se o jogador e a banca atingirem o mesmo número de pontos, a partida termina empatada.\n",
        "- As cartas numéricas valem o número de pontos que elas indicam (ex: 2 vale 2, 10 vale 10).\n",
        "- As cartas de figuras (rei, valete e dama) valem 10 pontos.\n",
        "- O Ás vale 11 pontos.\n",
        "\n",
        "Escreva um código Python que te permite jogar blackjack contra o computador, escrevendo a cada rodada o valor do jogo de cada jogador e, ao final, o vencedor da partida."
      ]
    },
    {
      "cell_type": "code",
      "metadata": {
        "id": "JFvTqmPEnMfL",
        "colab_type": "code",
        "colab": {}
      },
      "source": [
        "from random import uniform\n",
        "\n",
        "#cartas = {\"2\":2, \"3\":3, \"4\":4, \"5\":5, \"6\":6, \"7\":7, \"8\":8, \"9\":9, \"10\":10, \"valete\":10, \"dama\":10, \"rei\":10, \"as\":11}\n",
        "cartas = [2,3,4,5,6,7,8,9,10,10,10,10,11]\n",
        "resultados = [0,0]\n",
        "\n",
        "while resultados[0] <= 17 and resultados[1] <= 17:\n",
        "    entrada = input(\"Pedir carta ou parar?\")\n",
        "    \n",
        "    if entrada == \"parar\":\n",
        "        break\n",
        "        \n",
        "    jogada_computador = cartas[int(uniform(0,14))]\n",
        "    jogada_humano = cartas[int(uniform(0,14))]\n",
        "    \n",
        "    resultados[0] = resultados[0] + jogada_computador\n",
        "    resultados[1] = resultados[1] + jogada_humano\n",
        "    \n",
        "    if (resultados[0] <= 17 and resultados[1] <= 17):\n",
        "        print(\"Acumulado computador:\", resultados[0])\n",
        "        print(\"Acumulado humano:\", resultados[1])\n",
        "    else:\n",
        "        break\n",
        "\n",
        "print(2*\"-----\", \"PLACAR FINAL\", 2*\"-----\")  \n",
        "print(\"(PC)\", resultados[0], 'x', resultados[1], \"(HUM)\")\n",
        "\n",
        "if resultados[0] > resultados[1] and resultados[0] <= 21:\n",
        "  print(\"Partida vencida pelo computador!\")\n",
        "elif resultados[1] > resultados[0] and resultados[1] <= 21:\n",
        "  print(\"Partida vencida pelo humano!\")\n",
        "elif resultados[0] == resultados[1]:\n",
        "  print(\"Partida empatada!\")  "
      ],
      "execution_count": 0,
      "outputs": []
    }
  ]
}